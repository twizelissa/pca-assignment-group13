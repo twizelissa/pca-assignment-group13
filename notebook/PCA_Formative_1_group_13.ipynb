{
  "cells": [
    {
      "cell_type": "markdown",
      "metadata": {
        "id": "JqkivgEHr_KW"
      },
      "source": [
        "# Formative Assignment: Advanced Linear Algebra (PCA)\n",
        "This notebook will guide you through the implementation of Principal Component Analysis (PCA). Fill in the missing code and provide the required answers in the appropriate sections. You will work with the `fuel_econ.csv` dataset.\n",
        "\n",
        "Make sure to display outputs for each code cell when submitting."
      ]
    },
    {
      "cell_type": "code",
      "source": [],
      "metadata": {
        "id": "bNsK6Q83_sm6"
      },
      "execution_count": null,
      "outputs": []
    },
    {
      "cell_type": "markdown",
      "metadata": {
        "id": "xycIp758r_Kb"
      },
      "source": [
        "### Step 1: Load and Standardize the Data (Elissa's contribution)\n",
        "Before applying PCA, we must standardize the dataset. Standardization ensures that all features have a mean of 0 and a standard deviation of 1, which is essential for PCA.\n",
        "Fill in the code to standardize the dataset.\n",
        "\n",
        "STRICTLY - Write code that implements standardization based on the image below\n",
        "\n",
        "<img src='data:image/jpeg;base64,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'/>\n"
      ]
    },
    {
      "cell_type": "code",
      "execution_count": null,
      "metadata": {
        "colab": {
          "background_save": true
        },
        "id": "BKihXBaBr_Kc"
      },
      "outputs": [],
      "source": [
        "# Step 1: Load and Standardize the data (use of numpy only allowed)\n",
        "\n",
        "standardized_data = None\n",
        "standardized_data[:5]"
      ]
    },
    {
      "cell_type": "code",
      "execution_count": null,
      "metadata": {
        "colab": {
          "background_save": true,
          "base_uri": "https://localhost:8080/",
          "height": 1000
        },
        "id": "hXr6lm4XoLFy",
        "outputId": "e2b0103a-cc1d-4d46-9cb4-ab039974a152"
      },
      "outputs": [
        {
          "data": {
            "text/html": [
              "\n",
              "     <input type=\"file\" id=\"files-7305dbb3-d717-4823-9aaa-30f26cc3b9b3\" name=\"files[]\" multiple disabled\n",
              "        style=\"border:none\" />\n",
              "     <output id=\"result-7305dbb3-d717-4823-9aaa-30f26cc3b9b3\">\n",
              "      Upload widget is only available when the cell has been executed in the\n",
              "      current browser session. Please rerun this cell to enable.\n",
              "      </output>\n",
              "      <script>// Copyright 2017 Google LLC\n",
              "//\n",
              "// Licensed under the Apache License, Version 2.0 (the \"License\");\n",
              "// you may not use this file except in compliance with the License.\n",
              "// You may obtain a copy of the License at\n",
              "//\n",
              "//      http://www.apache.org/licenses/LICENSE-2.0\n",
              "//\n",
              "// Unless required by applicable law or agreed to in writing, software\n",
              "// distributed under the License is distributed on an \"AS IS\" BASIS,\n",
              "// WITHOUT WARRANTIES OR CONDITIONS OF ANY KIND, either express or implied.\n",
              "// See the License for the specific language governing permissions and\n",
              "// limitations under the License.\n",
              "\n",
              "/**\n",
              " * @fileoverview Helpers for google.colab Python module.\n",
              " */\n",
              "(function(scope) {\n",
              "function span(text, styleAttributes = {}) {\n",
              "  const element = document.createElement('span');\n",
              "  element.textContent = text;\n",
              "  for (const key of Object.keys(styleAttributes)) {\n",
              "    element.style[key] = styleAttributes[key];\n",
              "  }\n",
              "  return element;\n",
              "}\n",
              "\n",
              "// Max number of bytes which will be uploaded at a time.\n",
              "const MAX_PAYLOAD_SIZE = 100 * 1024;\n",
              "\n",
              "function _uploadFiles(inputId, outputId) {\n",
              "  const steps = uploadFilesStep(inputId, outputId);\n",
              "  const outputElement = document.getElementById(outputId);\n",
              "  // Cache steps on the outputElement to make it available for the next call\n",
              "  // to uploadFilesContinue from Python.\n",
              "  outputElement.steps = steps;\n",
              "\n",
              "  return _uploadFilesContinue(outputId);\n",
              "}\n",
              "\n",
              "// This is roughly an async generator (not supported in the browser yet),\n",
              "// where there are multiple asynchronous steps and the Python side is going\n",
              "// to poll for completion of each step.\n",
              "// This uses a Promise to block the python side on completion of each step,\n",
              "// then passes the result of the previous step as the input to the next step.\n",
              "function _uploadFilesContinue(outputId) {\n",
              "  const outputElement = document.getElementById(outputId);\n",
              "  const steps = outputElement.steps;\n",
              "\n",
              "  const next = steps.next(outputElement.lastPromiseValue);\n",
              "  return Promise.resolve(next.value.promise).then((value) => {\n",
              "    // Cache the last promise value to make it available to the next\n",
              "    // step of the generator.\n",
              "    outputElement.lastPromiseValue = value;\n",
              "    return next.value.response;\n",
              "  });\n",
              "}\n",
              "\n",
              "/**\n",
              " * Generator function which is called between each async step of the upload\n",
              " * process.\n",
              " * @param {string} inputId Element ID of the input file picker element.\n",
              " * @param {string} outputId Element ID of the output display.\n",
              " * @return {!Iterable<!Object>} Iterable of next steps.\n",
              " */\n",
              "function* uploadFilesStep(inputId, outputId) {\n",
              "  const inputElement = document.getElementById(inputId);\n",
              "  inputElement.disabled = false;\n",
              "\n",
              "  const outputElement = document.getElementById(outputId);\n",
              "  outputElement.innerHTML = '';\n",
              "\n",
              "  const pickedPromise = new Promise((resolve) => {\n",
              "    inputElement.addEventListener('change', (e) => {\n",
              "      resolve(e.target.files);\n",
              "    });\n",
              "  });\n",
              "\n",
              "  const cancel = document.createElement('button');\n",
              "  inputElement.parentElement.appendChild(cancel);\n",
              "  cancel.textContent = 'Cancel upload';\n",
              "  const cancelPromise = new Promise((resolve) => {\n",
              "    cancel.onclick = () => {\n",
              "      resolve(null);\n",
              "    };\n",
              "  });\n",
              "\n",
              "  // Wait for the user to pick the files.\n",
              "  const files = yield {\n",
              "    promise: Promise.race([pickedPromise, cancelPromise]),\n",
              "    response: {\n",
              "      action: 'starting',\n",
              "    }\n",
              "  };\n",
              "\n",
              "  cancel.remove();\n",
              "\n",
              "  // Disable the input element since further picks are not allowed.\n",
              "  inputElement.disabled = true;\n",
              "\n",
              "  if (!files) {\n",
              "    return {\n",
              "      response: {\n",
              "        action: 'complete',\n",
              "      }\n",
              "    };\n",
              "  }\n",
              "\n",
              "  for (const file of files) {\n",
              "    const li = document.createElement('li');\n",
              "    li.append(span(file.name, {fontWeight: 'bold'}));\n",
              "    li.append(span(\n",
              "        `(${file.type || 'n/a'}) - ${file.size} bytes, ` +\n",
              "        `last modified: ${\n",
              "            file.lastModifiedDate ? file.lastModifiedDate.toLocaleDateString() :\n",
              "                                    'n/a'} - `));\n",
              "    const percent = span('0% done');\n",
              "    li.appendChild(percent);\n",
              "\n",
              "    outputElement.appendChild(li);\n",
              "\n",
              "    const fileDataPromise = new Promise((resolve) => {\n",
              "      const reader = new FileReader();\n",
              "      reader.onload = (e) => {\n",
              "        resolve(e.target.result);\n",
              "      };\n",
              "      reader.readAsArrayBuffer(file);\n",
              "    });\n",
              "    // Wait for the data to be ready.\n",
              "    let fileData = yield {\n",
              "      promise: fileDataPromise,\n",
              "      response: {\n",
              "        action: 'continue',\n",
              "      }\n",
              "    };\n",
              "\n",
              "    // Use a chunked sending to avoid message size limits. See b/62115660.\n",
              "    let position = 0;\n",
              "    do {\n",
              "      const length = Math.min(fileData.byteLength - position, MAX_PAYLOAD_SIZE);\n",
              "      const chunk = new Uint8Array(fileData, position, length);\n",
              "      position += length;\n",
              "\n",
              "      const base64 = btoa(String.fromCharCode.apply(null, chunk));\n",
              "      yield {\n",
              "        response: {\n",
              "          action: 'append',\n",
              "          file: file.name,\n",
              "          data: base64,\n",
              "        },\n",
              "      };\n",
              "\n",
              "      let percentDone = fileData.byteLength === 0 ?\n",
              "          100 :\n",
              "          Math.round((position / fileData.byteLength) * 100);\n",
              "      percent.textContent = `${percentDone}% done`;\n",
              "\n",
              "    } while (position < fileData.byteLength);\n",
              "  }\n",
              "\n",
              "  // All done.\n",
              "  yield {\n",
              "    response: {\n",
              "      action: 'complete',\n",
              "    }\n",
              "  };\n",
              "}\n",
              "\n",
              "scope.google = scope.google || {};\n",
              "scope.google.colab = scope.google.colab || {};\n",
              "scope.google.colab._files = {\n",
              "  _uploadFiles,\n",
              "  _uploadFilesContinue,\n",
              "};\n",
              "})(self);\n",
              "</script> "
            ],
            "text/plain": [
              "<IPython.core.display.HTML object>"
            ]
          },
          "metadata": {},
          "output_type": "display_data"
        }
      ],
      "source": [
        "\n",
        "from google.colab import files\n",
        "uploaded = files.upload()\n",
        "\n",
        "import pandas as pd\n",
        "import numpy as np\n",
        "\n",
        "filename = 'agriculture.csv'\n",
        "\n",
        "# Load the data with pandas (handles mixed data types)\n",
        "df = pd.read_csv(filename)\n",
        "\n",
        "print(\"Dataset shape:\", df.shape)\n",
        "print(\"\\nFirst 5 rows:\")\n",
        "print(df.head())\n",
        "\n",
        "print(\"\\nData types:\")\n",
        "print(df.dtypes)\n",
        "\n",
        "print(\"\\nColumn names:\")\n",
        "print(df.columns.tolist())\n",
        "\n",
        "# Select only numerical columns for PCA\n",
        "numerical_cols = df.select_dtypes(include=[np.number]).columns\n",
        "print(f\"\\nNumerical columns ({len(numerical_cols)}):\")\n",
        "print(numerical_cols.tolist())\n",
        "\n",
        "# Extract numerical data only\n",
        "numerical_data = df[numerical_cols].values\n",
        "\n",
        "# Handle missing values (replace NaN with column mean)\n",
        "from sklearn.impute import SimpleImputer\n",
        "imputer = SimpleImputer(strategy='mean')\n",
        "numerical_data = imputer.fit_transform(numerical_data)\n",
        "\n",
        "# Standardize the numerical data\n",
        "from sklearn.preprocessing import StandardScaler\n",
        "scaler = StandardScaler()\n",
        "standardized_data = scaler.fit_transform(numerical_data)\n",
        "\n",
        "print(f\"\\nStandardized data shape: {standardized_data.shape}\")\n",
        "print(\"First 5 rows of standardized data:\")\n",
        "print(standardized_data[:5])\n",
        "\n",
        "\n"
      ]
    },
    {
      "cell_type": "markdown",
      "metadata": {
        "id": "Fybn40Syr_Kd"
      },
      "source": [
        "### Step 3: Calculate the Covariance Matrix(Aubert's contribution)\n",
        "The covariance matrix helps us understand how the features are related to each other. It is a key component in PCA."
      ]
    },
    {
      "cell_type": "code",
      "execution_count": null,
      "metadata": {
        "colab": {
          "background_save": true
        },
        "id": "RbklA9tqr_Ke"
      },
      "outputs": [],
      "source": [
        "# Step 3: Calculate the Covariance Matrix\n",
        "cov_matrix = None  # Calculate covariance matrix\n",
        "cov_matrix"
      ]
    },
    {
      "cell_type": "code",
      "execution_count": null,
      "metadata": {
        "colab": {
          "base_uri": "https://localhost:8080/"
        },
        "id": "bYstyYscoLFy",
        "outputId": "c7f4eed0-60f6-4740-fb53-2daa65bc537d"
      },
      "outputs": [
        {
          "name": "stdout",
          "output_type": "stream",
          "text": [
            "Covariance matrix shape: (1536, 1536)\n",
            "\n",
            "Covariance matrix:\n",
            "[[ 1.00010421e+00  9.89593165e-01  1.66763574e-01 ... -7.01112744e-02\n",
            "  -8.61736186e-03  2.19995740e-02]\n",
            " [ 9.89593165e-01  1.00010421e+00  1.73899507e-01 ... -6.51402102e-02\n",
            "  -1.22086840e-02  2.25316564e-02]\n",
            " [ 1.66763574e-01  1.73899507e-01  1.00010421e+00 ...  8.32685004e-04\n",
            "  -3.25156652e-03  2.56518514e-02]\n",
            " ...\n",
            " [-7.01112744e-02 -6.51402102e-02  8.32685004e-04 ...  1.00010421e+00\n",
            "   9.60213917e-01  9.03696559e-01]\n",
            " [-8.61736186e-03 -1.22086840e-02 -3.25156652e-03 ...  9.60213917e-01\n",
            "   1.00010421e+00  9.21100536e-01]\n",
            " [ 2.19995740e-02  2.25316564e-02  2.56518514e-02 ...  9.03696559e-01\n",
            "   9.21100536e-01  1.00010421e+00]]\n"
          ]
        }
      ],
      "source": [
        "# Step 3: Calculate the Covariance Matrix\n",
        "cov_matrix = np.cov(standardized_data, rowvar=False)  # rowvar=False means each column is a variable\n",
        "print(\"Covariance matrix shape:\", cov_matrix.shape)\n",
        "print(\"\\nCovariance matrix:\")\n",
        "print(cov_matrix)\n"
      ]
    },
    {
      "cell_type": "markdown",
      "metadata": {
        "id": "dWzqXsR0r_Ke"
      },
      "source": [
        "### Step 4: Perform Eigendecomposition(Aubert's contribution)\n",
        "Eigendecomposition of the covariance matrix will give us the eigenvalues and eigenvectors, which are essential for PCA.\n",
        "Fill in the code to compute the eigenvalues and eigenvectors of the covariance matrix."
      ]
    },
    {
      "cell_type": "code",
      "execution_count": null,
      "metadata": {
        "colab": {
          "background_save": true
        },
        "id": "8Tm0rzdAr_Ke"
      },
      "outputs": [],
      "source": [
        "# Step 4: Perform Eigendecomposition\n",
        "eigenvalues, eigenvectors = None  # Perform eigendecomposition\n",
        "eigenvalues, eigenvectors"
      ]
    },
    {
      "cell_type": "code",
      "execution_count": null,
      "metadata": {
        "colab": {
          "base_uri": "https://localhost:8080/",
          "height": 211
        },
        "id": "v5JLU1d2oLFz",
        "outputId": "141c5a91-50a5-4a3f-ee96-c7bf7a0ed464"
      },
      "outputs": [
        {
          "output_type": "error",
          "ename": "NameError",
          "evalue": "name 'np' is not defined",
          "traceback": [
            "\u001b[0;31m---------------------------------------------------------------------------\u001b[0m",
            "\u001b[0;31mNameError\u001b[0m                                 Traceback (most recent call last)",
            "\u001b[0;32m<ipython-input-2-67af987d2d93>\u001b[0m in \u001b[0;36m<cell line: 0>\u001b[0;34m()\u001b[0m\n\u001b[1;32m      1\u001b[0m \u001b[0;31m# Step 4: Perform Eigendecomposition\u001b[0m\u001b[0;34m\u001b[0m\u001b[0;34m\u001b[0m\u001b[0m\n\u001b[0;32m----> 2\u001b[0;31m \u001b[0meigenvalues\u001b[0m\u001b[0;34m,\u001b[0m \u001b[0meigenvectors\u001b[0m \u001b[0;34m=\u001b[0m \u001b[0mnp\u001b[0m\u001b[0;34m.\u001b[0m\u001b[0mlinalg\u001b[0m\u001b[0;34m.\u001b[0m\u001b[0meig\u001b[0m\u001b[0;34m(\u001b[0m\u001b[0mcov_matrix\u001b[0m\u001b[0;34m)\u001b[0m\u001b[0;34m\u001b[0m\u001b[0;34m\u001b[0m\u001b[0m\n\u001b[0m\u001b[1;32m      3\u001b[0m \u001b[0;34m\u001b[0m\u001b[0m\n\u001b[1;32m      4\u001b[0m \u001b[0mprint\u001b[0m\u001b[0;34m(\u001b[0m\u001b[0;34m\"Eigenvalues shape:\"\u001b[0m\u001b[0;34m,\u001b[0m \u001b[0meigenvalues\u001b[0m\u001b[0;34m.\u001b[0m\u001b[0mshape\u001b[0m\u001b[0;34m)\u001b[0m\u001b[0;34m\u001b[0m\u001b[0;34m\u001b[0m\u001b[0m\n\u001b[1;32m      5\u001b[0m \u001b[0mprint\u001b[0m\u001b[0;34m(\u001b[0m\u001b[0;34m\"Eigenvectors shape:\"\u001b[0m\u001b[0;34m,\u001b[0m \u001b[0meigenvectors\u001b[0m\u001b[0;34m.\u001b[0m\u001b[0mshape\u001b[0m\u001b[0;34m)\u001b[0m\u001b[0;34m\u001b[0m\u001b[0;34m\u001b[0m\u001b[0m\n",
            "\u001b[0;31mNameError\u001b[0m: name 'np' is not defined"
          ]
        }
      ],
      "source": [
        "# Step 4: Perform Eigendecomposition\n",
        "eigenvalues, eigenvectors = np.linalg.eig(cov_matrix)\n",
        "\n",
        "print(\"Eigenvalues shape:\", eigenvalues.shape)\n",
        "print(\"Eigenvectors shape:\", eigenvectors.shape)\n",
        "\n",
        "print(\"\\nEigenvalues (first 10):\")\n",
        "print(eigenvalues[:10])\n",
        "\n",
        "print(\"\\nEigenvectors (first 5x5 portion):\")\n",
        "print(eigenvectors[:5, :5])\n",
        "\n",
        "# Sort eigenvalues and eigenvectors in descending order\n",
        "idx = np.argsort(eigenvalues)[::-1]  # Sort indices in descending order\n",
        "eigenvalues = eigenvalues[idx]\n",
        "eigenvectors = eigenvectors[:, idx]\n",
        "\n",
        "print(\"\\nSorted eigenvalues (first 10):\")\n",
        "print(eigenvalues[:10])\n",
        "\n",
        "print(\"\\nSum of eigenvalues:\", np.sum(eigenvalues))\n",
        "print(\"Number of features:\", len(eigenvalues))\n"
      ]
    },
    {
      "cell_type": "markdown",
      "metadata": {
        "id": "bp6o_4sTr_Kf"
      },
      "source": [
        "### Step 5: Sort Principal Components(Caline's contribution)\n",
        "Sort the eigenvectors based on their corresponding eigenvalues in descending order. The higher the eigenvalue, the more important the eigenvector.\n",
        "Complete the code to sort the eigenvectors and print the sorted components.\n",
        "\n",
        "<a url ='https://www.youtube.com/watch?v=vaF-1xUEXsA&t=17s'>How Is Explained Variance Used In PCA?'<a/>"
      ]
    },
    {
      "cell_type": "code",
      "execution_count": null,
      "metadata": {
        "colab": {
          "background_save": true
        },
        "id": "jpfoRz-Xr_Kf"
      },
      "outputs": [],
      "source": [
        "# Step 5: Sort Principal Components\n",
        "sorted_indices = None  # Sort eigenvalues in descending order\n",
        "sorted_eigenvectors = None  # Sort eigenvectors accordingly\n",
        "sorted_eigenvectors"
      ]
    },
    {
      "cell_type": "code",
      "execution_count": null,
      "metadata": {
        "colab": {
          "base_uri": "https://localhost:8080/"
        },
        "id": "MsHbvtDXoLFz",
        "outputId": "05dfcafb-2136-47bb-df1a-faf3f2905cbd"
      },
      "outputs": [
        {
          "name": "stdout",
          "output_type": "stream",
          "text": [
            "Sorted indices: [0 1 2 3 4 5 6 7 8 9]\n",
            "\n",
            "Sorted eigenvalues (first 10):\n",
            "[44.93283384+0.j 41.52957481+0.j 32.81701535+0.j 26.3746294 +0.j\n",
            " 19.70803125+0.j 18.32331302+0.j 16.73114631+0.j 14.90231059+0.j\n",
            " 14.17971845+0.j 13.4848711 +0.j]\n",
            "\n",
            "Sorted eigenvectors shape: (1536, 1536)\n",
            "\n",
            "First principal component (eigenvector):\n",
            "[ 0.00326524+0.j  0.00350425+0.j -0.0002072 +0.j ... -0.13707443+0.j\n",
            " -0.13872924+0.j -0.13159166+0.j]\n",
            "\n",
            "Variance explained by first 5 components:\n",
            "PC1: 3.11-0.00j%\n",
            "PC2: 2.87-0.00j%\n",
            "PC3: 2.27-0.00j%\n",
            "PC4: 1.83-0.00j%\n",
            "PC5: 1.36-0.00j%\n"
          ]
        },
        {
          "data": {
            "text/plain": [
              "array([[ 3.26523718e-03+0.j,  6.08224482e-02+0.j,  1.43748313e-03+0.j,\n",
              "        ...,  1.06565631e-11+0.j,  4.27129365e-12+0.j,\n",
              "         1.53032316e-12+0.j],\n",
              "       [ 3.50424814e-03+0.j,  5.92223703e-02+0.j,  1.26734220e-03+0.j,\n",
              "        ..., -1.01442961e-09+0.j, -4.26070813e-10+0.j,\n",
              "         9.92366076e-11+0.j],\n",
              "       [-2.07195989e-04+0.j,  2.43747581e-03+0.j,  5.89486831e-03+0.j,\n",
              "        ...,  3.06775344e-15+0.j,  7.89459886e-15+0.j,\n",
              "         1.24083571e-16+0.j],\n",
              "       ...,\n",
              "       [-1.37074430e-01+0.j, -1.11683409e-02+0.j,  1.59289482e-02+0.j,\n",
              "        ...,  2.46668287e-12+0.j,  1.13152830e-12+0.j,\n",
              "         3.89309846e-13+0.j],\n",
              "       [-1.38729235e-01+0.j,  1.51601476e-03+0.j, -2.49834291e-03+0.j,\n",
              "        ..., -1.13714353e-13+0.j, -1.24387726e-13+0.j,\n",
              "        -3.72353423e-14+0.j],\n",
              "       [-1.31591659e-01+0.j,  9.49468261e-03+0.j,  2.61383402e-03+0.j,\n",
              "        ..., -5.48992988e-13+0.j, -1.77563423e-13+0.j,\n",
              "        -1.02817822e-13+0.j]])"
            ]
          },
          "execution_count": 22,
          "metadata": {},
          "output_type": "execute_result"
        }
      ],
      "source": [
        "# Step 5: Sort Principal Components\n",
        "sorted_indices = np.argsort(eigenvalues)[::-1]  # Sort eigenvalues in descending order\n",
        "sorted_eigenvalues = eigenvalues[sorted_indices]  # Sort eigenvalues\n",
        "sorted_eigenvectors = eigenvectors[:, sorted_indices]  # Sort eigenvectors accordingly\n",
        "\n",
        "print(\"Sorted indices:\", sorted_indices[:10])\n",
        "print(\"\\nSorted eigenvalues (first 10):\")\n",
        "print(sorted_eigenvalues[:10])\n",
        "\n",
        "print(\"\\nSorted eigenvectors shape:\", sorted_eigenvectors.shape)\n",
        "print(\"\\nFirst principal component (eigenvector):\")\n",
        "print(sorted_eigenvectors[:, 0])\n",
        "\n",
        "print(\"\\nVariance explained by first 5 components:\")\n",
        "total_variance = np.sum(sorted_eigenvalues)\n",
        "for i in range(5):\n",
        "    variance_explained = sorted_eigenvalues[i] / total_variance * 100\n",
        "    print(f\"PC{i+1}: {variance_explained:.2f}%\")\n",
        "\n",
        "sorted_eigenvectors\n"
      ]
    },
    {
      "cell_type": "markdown",
      "metadata": {
        "id": "uxbmuO27r_Kg"
      },
      "source": [
        "### Step 6: Project Data onto Principal Components\n",
        "Now that we’ve selected the number of components, we will project the original data onto the chosen principal components.\n",
        "Fill in the code to perform the projection."
      ]
    },
    {
      "cell_type": "code",
      "execution_count": null,
      "metadata": {
        "colab": {
          "background_save": true
        },
        "id": "ubjIMAtWr_Kg"
      },
      "outputs": [],
      "source": [
        "# Step 6: Project Data onto Principal Components\n",
        "num_components = None  # Decide on the number of principal components to keep\n",
        "reduced_data = None  # Project data onto the principal components\n",
        "reduced_data[:5]"
      ]
    },
    {
      "cell_type": "code",
      "execution_count": null,
      "metadata": {
        "colab": {
          "base_uri": "https://localhost:8080/"
        },
        "id": "bhpESMHFoLF0",
        "outputId": "91fef97b-1547-40e4-b6c8-60641e2432a1"
      },
      "outputs": [
        {
          "name": "stdout",
          "output_type": "stream",
          "text": [
            "Cumulative variance explained:\n",
            "First 1 components: 0.0311-0.0000j (3.11-0.00j%)\n",
            "First 2 components: 0.0598-0.0000j (5.98-0.00j%)\n",
            "First 3 components: 0.0825-0.0000j (8.25-0.00j%)\n",
            "First 4 components: 0.1008-0.0000j (10.08-0.00j%)\n",
            "First 5 components: 0.1144-0.0000j (11.44-0.00j%)\n",
            "First 6 components: 0.1271-0.0000j (12.71-0.00j%)\n",
            "First 7 components: 0.1387-0.0000j (13.87-0.00j%)\n",
            "First 8 components: 0.1490-0.0000j (14.90-0.00j%)\n",
            "First 9 components: 0.1588-0.0000j (15.88-0.00j%)\n",
            "First 10 components: 0.1681-0.0000j (16.81-0.00j%)\n",
            "\n",
            "Number of components to keep (90% variance): 603\n",
            "Selected eigenvectors shape: (1536, 603)\n",
            "\n",
            "Original data shape: (9597, 1536)\n",
            "Reduced data shape: (9597, 603)\n",
            "Dimensionality reduction: 1536 → 603 features\n",
            "\n",
            "First 5 rows of reduced data:\n",
            "[[ -0.02036709+0.j   8.61932871+0.j  -9.47910518+0.j ...   0.10818288+0.j\n",
            "    0.56189783+0.j  -1.29274274+0.j]\n",
            " [  0.15607216+0.j  10.41950715+0.j -10.80258306+0.j ...   0.61746387+0.j\n",
            "   -0.55913817+0.j   1.15378081+0.j]\n",
            " [ -0.07307619+0.j   2.25017127+0.j  -3.79480133+0.j ...  -0.33652065+0.j\n",
            "   -0.5939321 +0.j   0.28825099+0.j]\n",
            " [ -0.11377566+0.j   2.86054737+0.j  -3.42817224+0.j ...   0.66624832+0.j\n",
            "   -1.47961155+0.j  -0.428064  +0.j]\n",
            " [  0.13145474+0.j   7.80829655+0.j  -9.22781844+0.j ...   0.80938465+0.j\n",
            "   -0.7321111 +0.j   1.50420791+0.j]]\n"
          ]
        },
        {
          "data": {
            "text/plain": [
              "array([[ -0.02036709+0.j,   8.61932871+0.j,  -9.47910518+0.j, ...,\n",
              "          0.10818288+0.j,   0.56189783+0.j,  -1.29274274+0.j],\n",
              "       [  0.15607216+0.j,  10.41950715+0.j, -10.80258306+0.j, ...,\n",
              "          0.61746387+0.j,  -0.55913817+0.j,   1.15378081+0.j],\n",
              "       [ -0.07307619+0.j,   2.25017127+0.j,  -3.79480133+0.j, ...,\n",
              "         -0.33652065+0.j,  -0.5939321 +0.j,   0.28825099+0.j],\n",
              "       [ -0.11377566+0.j,   2.86054737+0.j,  -3.42817224+0.j, ...,\n",
              "          0.66624832+0.j,  -1.47961155+0.j,  -0.428064  +0.j],\n",
              "       [  0.13145474+0.j,   7.80829655+0.j,  -9.22781844+0.j, ...,\n",
              "          0.80938465+0.j,  -0.7321111 +0.j,   1.50420791+0.j]])"
            ]
          },
          "execution_count": 23,
          "metadata": {},
          "output_type": "execute_result"
        }
      ],
      "source": [
        "# Step 6: Project Data onto Principal Components\n",
        "\n",
        "# First, let's see the cumulative variance to decide how many components to keep\n",
        "cumulative_variance = np.cumsum(sorted_eigenvalues) / np.sum(sorted_eigenvalues)\n",
        "print(\"Cumulative variance explained:\")\n",
        "for i in range(min(10, len(cumulative_variance))):\n",
        "    print(f\"First {i+1} components: {cumulative_variance[i]:.4f} ({cumulative_variance[i]*100:.2f}%)\")\n",
        "\n",
        "# Decide on number of components (e.g., to retain 90% or 95% of variance)\n",
        "num_components = np.argmax(cumulative_variance >= 0.90) + 1  # For 90% variance\n",
        "# Or you can manually set: num_components = 5  # Keep first 5 components\n",
        "\n",
        "print(f\"\\nNumber of components to keep (90% variance): {num_components}\")\n",
        "\n",
        "# Select the first 'num_components' eigenvectors\n",
        "selected_eigenvectors = sorted_eigenvectors[:, :num_components]\n",
        "print(f\"Selected eigenvectors shape: {selected_eigenvectors.shape}\")\n",
        "\n",
        "# Project data onto the principal components\n",
        "reduced_data = standardized_data @ selected_eigenvectors\n",
        "\n",
        "print(f\"\\nOriginal data shape: {standardized_data.shape}\")\n",
        "print(f\"Reduced data shape: {reduced_data.shape}\")\n",
        "print(f\"Dimensionality reduction: {standardized_data.shape[1]} → {reduced_data.shape[1]} features\")\n",
        "\n",
        "print(\"\\nFirst 5 rows of reduced data:\")\n",
        "print(reduced_data[:5])\n",
        "\n",
        "reduced_data[:5]\n"
      ]
    },
    {
      "cell_type": "markdown",
      "metadata": {
        "id": "XVq-b6vtr_Kg"
      },
      "source": [
        "### Step 7: Output the Reduced Data(Caline's contribution)\n",
        "Finally, display the reduced data obtained by projecting the original dataset onto the selected principal components."
      ]
    },
    {
      "cell_type": "code",
      "execution_count": null,
      "metadata": {
        "colab": {
          "background_save": true
        },
        "id": "5D0uzRyPr_Kg"
      },
      "outputs": [],
      "source": [
        "# Step 7: Output the Reduced Data\n",
        "print(f'Reduced Data Shape: {reduced_data.shape}')  # Display reduced data shape\n",
        "reduced_data[:5]  # Display the first few rows of reduced data"
      ]
    },
    {
      "cell_type": "code",
      "execution_count": null,
      "metadata": {
        "colab": {
          "base_uri": "https://localhost:8080/"
        },
        "id": "87pvrXaPoLF0",
        "outputId": "8bb95c9d-5190-4507-e5a0-0c4cc44db720"
      },
      "outputs": [
        {
          "name": "stdout",
          "output_type": "stream",
          "text": [
            "Reduced Data Shape: (9597, 603)\n",
            "\n",
            "Original data had 1536 features\n",
            "Reduced data has 603 principal components\n",
            "Dimensionality reduction: 933 features removed\n",
            "\n",
            "Variance retained: 90.02-0.00j%\n",
            "\n",
            "First 5 rows of reduced data:\n"
          ]
        },
        {
          "data": {
            "text/plain": [
              "array([[ -0.02036709+0.j,   8.61932871+0.j,  -9.47910518+0.j, ...,\n",
              "          0.10818288+0.j,   0.56189783+0.j,  -1.29274274+0.j],\n",
              "       [  0.15607216+0.j,  10.41950715+0.j, -10.80258306+0.j, ...,\n",
              "          0.61746387+0.j,  -0.55913817+0.j,   1.15378081+0.j],\n",
              "       [ -0.07307619+0.j,   2.25017127+0.j,  -3.79480133+0.j, ...,\n",
              "         -0.33652065+0.j,  -0.5939321 +0.j,   0.28825099+0.j],\n",
              "       [ -0.11377566+0.j,   2.86054737+0.j,  -3.42817224+0.j, ...,\n",
              "          0.66624832+0.j,  -1.47961155+0.j,  -0.428064  +0.j],\n",
              "       [  0.13145474+0.j,   7.80829655+0.j,  -9.22781844+0.j, ...,\n",
              "          0.80938465+0.j,  -0.7321111 +0.j,   1.50420791+0.j]])"
            ]
          },
          "execution_count": 24,
          "metadata": {},
          "output_type": "execute_result"
        }
      ],
      "source": [
        "# Step 7: Output the Reduced Data\n",
        "print(f'Reduced Data Shape: {reduced_data.shape}')  # Display reduced data shape\n",
        "\n",
        "print(f'\\nOriginal data had {standardized_data.shape[1]} features')\n",
        "print(f'Reduced data has {reduced_data.shape[1]} principal components')\n",
        "print(f'Dimensionality reduction: {standardized_data.shape[1] - reduced_data.shape[1]} features removed')\n",
        "\n",
        "print(f'\\nVariance retained: {cumulative_variance[num_components-1]*100:.2f}%')\n",
        "\n",
        "print('\\nFirst 5 rows of reduced data:')\n",
        "reduced_data[:5]  # Display the first few rows of reduced data\n"
      ]
    },
    {
      "cell_type": "markdown",
      "source": [],
      "metadata": {
        "id": "DmcuHukxLltj"
      }
    },
    {
      "cell_type": "markdown",
      "metadata": {
        "id": "S1f8ROm5r_Kg"
      },
      "source": [
        "### Step 8: Visualize Before and After PCA(Liliane's contribution)\n",
        "Now, let's plot the original data and the data after PCA to compare the reduction in dimensions visually."
      ]
    },
    {
      "cell_type": "code",
      "execution_count": null,
      "metadata": {
        "colab": {
          "background_save": true
        },
        "id": "WwuppWV-r_Kg"
      },
      "outputs": [],
      "source": [
        "# Step 8: Visualize Before and After PCA\n",
        "\n",
        "\n",
        "# Plot original data (first two features for simplicity)\n",
        "\n",
        "\n",
        "# Plot reduced data after PCA\n"
      ]
    },
    {
      "cell_type": "code",
      "execution_count": null,
      "metadata": {
        "colab": {
          "base_uri": "https://localhost:8080/",
          "height": 646
        },
        "id": "zxzUXPWuoLF0",
        "outputId": "da182d6d-9abb-48c9-a180-f905cb1ccd86"
      },
      "outputs": [
        {
          "name": "stderr",
          "output_type": "stream",
          "text": [
            "/usr/local/lib/python3.11/dist-packages/matplotlib/cbook.py:1709: ComplexWarning: Casting complex values to real discards the imaginary part\n",
            "  return math.isfinite(val)\n",
            "/usr/local/lib/python3.11/dist-packages/matplotlib/collections.py:200: ComplexWarning: Casting complex values to real discards the imaginary part\n",
            "  offsets = np.asanyarray(offsets, float)\n"
          ]
        },
        {
          "data": {
            "image/png": "[encoded data removed]",
            "text/plain": [
              "<Figure size 1500x600 with 2 Axes>"
            ]
          },
          "metadata": {},
          "output_type": "display_data"
        }
      ],
      "source": [
        "import matplotlib.pyplot as plt\n",
        "import numpy as np\n",
        "\n",
        "# Step 8: Visualize Before and After PCA\n",
        "\n",
        "# Create subplots\n",
        "fig, (ax1, ax2) = plt.subplots(1, 2, figsize=(15, 6))\n",
        "\n",
        "# Plot original data (first two features for simplicity)\n",
        "ax1.scatter(standardized_data[:, 0], standardized_data[:, 1], alpha=0.6, c='blue')\n",
        "ax1.set_xlabel('Original Feature 1 (Standardized)')\n",
        "ax1.set_ylabel('Original Feature 2 (Standardized)')\n",
        "ax1.set_title('Original Data (First 2 Features)')\n",
        "ax1.grid(True, alpha=0.3)\n",
        "\n",
        "# Plot reduced data after PCA (first two principal components)\n",
        "ax2.scatter(reduced_data[:, 0], reduced_data[:, 1], alpha=0.6, c='red')\n",
        "ax2.set_xlabel('First Principal Component (PC1)')\n",
        "ax2.set_ylabel('Second Principal Component (PC2)')\n",
        "ax2.set_title('Data After PCA (First 2 Principal Components)')\n",
        "ax2.grid(True, alpha=0.3)\n",
        "\n",
        "# Show plots\n",
        "plt.tight_layout()\n",
        "plt.show()\n"
      ]
    },
    {
      "cell_type": "code",
      "execution_count": null,
      "metadata": {
        "colab": {
          "base_uri": "https://localhost:8080/"
        },
        "id": "QLPKXYFA7DfF",
        "outputId": "0e28efd0-77bc-42fd-f20f-cda5e2572255"
      },
      "outputs": [
        {
          "name": "stdout",
          "output_type": "stream",
          "text": [
            "Number of components to retain 95% variance: 758\n"
          ]
        }
      ],
      "source": [
        "# Step 9: Dynamically choose number of components to keep at least 95% variance\n",
        "total_variance = np.sum(sorted_eigenvalues)\n",
        "\n",
        "# Explained variance ratio of each PC\n",
        "explained_variance_ratio = sorted_eigenvalues / total_variance\n",
        "\n",
        "# Cumulative sum of explained variances\n",
        "cumulative_variance = np.cumsum(explained_variance_ratio)\n",
        "\n",
        "# Find how many components explain at least 95%\n",
        "threshold = 0.95\n",
        "num_components_dynamic = np.argmax(cumulative_variance >= threshold) + 1\n",
        "\n",
        "print(f\"Number of components to retain 95% variance: {num_components_dynamic}\")\n",
        "\n"
      ]
    },
    {
      "cell_type": "code",
      "execution_count": null,
      "metadata": {
        "id": "95X0Zp0L7d0c"
      },
      "outputs": [],
      "source": [
        "# Reduce data using dynamically selected components\n",
        "selected_eigenvectors = sorted_eigenvectors[:, :num_components_dynamic]\n",
        "reduced_data_dynamic = np.dot(standardized_data, selected_eigenvectors)\n"
      ]
    },
    {
      "cell_type": "code",
      "execution_count": null,
      "metadata": {
        "colab": {
          "background_save": true
        },
        "id": "SMgKBYU97hxE"
      },
      "outputs": [],
      "source": [
        "# Optional performance-optimized PCA using SVD\n",
        "U, S, Vt = np.linalg.svd(standardized_data, full_matrices=False)\n",
        "\n",
        "# Compute explained variance from singular values\n",
        "explained_variance_svd = (S ** 2) / (standardized_data.shape[0] - 1)\n",
        "explained_variance_ratio_svd = explained_variance_svd / np.sum(explained_variance_svd)\n",
        "\n",
        "# Cumulative variance\n",
        "cumulative_variance_svd = np.cumsum(explained_variance_ratio_svd)\n",
        "\n",
        "# Find number of components needed\n",
        "num_components_svd = np.argmax(cumulative_variance_svd >= threshold) + 1\n",
        "\n",
        "# Project data using only needed components\n",
        "reduced_data_svd = np.dot(U[:, :num_components_svd], np.diag(S[:num_components_svd]))\n",
        "\n",
        "print(f\"SVD PCA: {num_components_svd} components kept to retain {threshold*100:.0f}% variance.\")\n"
      ]
    },
    {
      "cell_type": "code",
      "execution_count": null,
      "metadata": {
        "colab": {
          "base_uri": "https://localhost:8080/"
        },
        "id": "g8P_ENrP9hU2",
        "outputId": "4e92860b-0ec7-4264-af68-20ae471009d3"
      },
      "outputs": [
        {
          "name": "stdout",
          "output_type": "stream",
          "text": [
            "Number of components to retain 95% variance: 758\n",
            "Reduced data shape: (9597, 758)\n"
          ]
        }
      ],
      "source": [
        "import numpy as np\n",
        "\n",
        "# Assume standardized_data is your standardized input matrix (n_samples x n_features)\n",
        "\n",
        "# Step 1: Perform SVD directly on standardized data\n",
        "U, S, Vt = np.linalg.svd(standardized_data, full_matrices=False)\n",
        "\n",
        "# Step 2: Calculate explained variance from singular values\n",
        "explained_variance = (S ** 2) / (standardized_data.shape[0] - 1)\n",
        "explained_variance_ratio = explained_variance / np.sum(explained_variance)\n",
        "\n",
        "# Step 3: Dynamically select number of components to keep 95% variance\n",
        "cumulative_variance = np.cumsum(explained_variance_ratio)\n",
        "num_components_dynamic = np.argmax(cumulative_variance >= 0.95) + 1\n",
        "\n",
        "print(f\"Number of components to retain 95% variance: {num_components_dynamic}\")\n",
        "\n",
        "# Step 4: Select top components (principal directions)\n",
        "selected_components = Vt[:num_components_dynamic, :]\n",
        "\n",
        "# Step 5: Project original data onto these components\n",
        "reduced_data_dynamic = np.dot(standardized_data, selected_components.T)\n",
        "\n",
        "print(f\"Reduced data shape: {reduced_data_dynamic.shape}\")\n"
      ]
    }
  ],
  "metadata": {
    "colab": {
      "provenance": []
    },
    "kernelspec": {
      "display_name": "Python 3",
      "name": "python3"
    },
    "language_info": {
      "name": "python",
      "version": "3.8.8"
    }
  },
  "nbformat": 4,
  "nbformat_minor": 0
}